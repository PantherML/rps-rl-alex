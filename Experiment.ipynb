{
 "cells": [
  {
   "cell_type": "code",
   "execution_count": null,
   "id": "fe1b85ed-9d7f-4066-8d5a-c8a4aad08e5f",
   "metadata": {},
   "outputs": [],
   "source": [
    "from collections import defaultdict\n",
    "from random import randint\n",
    "\n",
    "import gym\n",
    "import rps_gym\n",
    "from rps_gym.envs import RPSEnv\n",
    "from rps_gym.envs.rps_env import RPS, GameState\n",
    "\n",
    "import numpy as np\n",
    "\n",
    "env = gym.make(\"RPS-v0\")"
   ]
  },
  {
   "cell_type": "code",
   "execution_count": null,
   "id": "080f7d55-3c77-4564-aa83-538e1b7a1e7c",
   "metadata": {},
   "outputs": [],
   "source": [
    "class Agent:\n",
    "    def __init__(self, alpha, gamma):\n",
    "        self.alpha = alpha\n",
    "        self.gamma = gamma\n",
    "        nA = env.action_space.n\n",
    "        self.Q = {0: np.zeros(nA), 1: np.zeros(nA), 2: np.zeros(nA)}\n",
    "    \n",
    "    def compute_action(self, state):\n",
    "        # return 0  # All rock\n",
    "        return randint(0, 2)  # Completely Random\n",
    "    \n",
    "    def update(self, state, action, reward, next_state=None):\n",
    "        pass\n",
    "    \n",
    "def policy_from_Q(Q):\n",
    "    policy = {}\n",
    "    for state in Q:\n",
    "        v = np.argmax(Q[state])\n",
    "        policy[RPS(state)] = RPS(v)\n",
    "    return policy\n",
    "\n",
    "agent = Agent(1, 1)"
   ]
  },
  {
   "cell_type": "code",
   "execution_count": null,
   "id": "7c91c5e3-1dc3-4fb1-8c40-6dfd5e1da3e1",
   "metadata": {},
   "outputs": [],
   "source": [
    "# ROCK = 0\n",
    "# PAPER = 1\n",
    "# SCISSORS = 2\n",
    "env.reset()"
   ]
  },
  {
   "cell_type": "code",
   "execution_count": null,
   "id": "452cde08-3d49-455f-88af-67d387ead590",
   "metadata": {},
   "outputs": [],
   "source": [
    "env.step(1) # Threw Paper"
   ]
  },
  {
   "cell_type": "code",
   "execution_count": null,
   "id": "facb859c-a1ac-4155-9442-4bfc8b17d8da",
   "metadata": {},
   "outputs": [],
   "source": [
    "# Training Agent Loop\n",
    "game_stats = {\n",
    "    GameState.WIN: 0,\n",
    "    GameState.TIE: 0,\n",
    "    GameState.LOSS: 0,\n",
    "}\n",
    "agent_overall_wins = 0\n",
    "total_reward = 0\n",
    "\n",
    "for episode in range(100):\n",
    "    state_0 = env.reset()\n",
    "    for t in range(1000):\n",
    "        action = agent.compute_action(state_0)\n",
    "        state_1, reward, done, info = env.step(action)\n",
    "        agent.update(state_0, action, reward, state_1)\n",
    "        \n",
    "        state_0 = state_1\n",
    "        \n",
    "        # Statistics\n",
    "        game_stats[reward] += 1\n",
    "        total_reward += reward\n",
    "        \n",
    "        if done:\n",
    "            agent_overall_wins += info[\"agent_won\"]\n",
    "            break\n",
    "\n",
    "print(total_reward, agent_overall_wins, game_stats)\n",
    "print(agent.Q)\n",
    "print(policy_from_Q(agent.Q))"
   ]
  },
  {
   "cell_type": "code",
   "execution_count": null,
   "id": "dde06121-7f0c-47dd-9225-fd69b0a55906",
   "metadata": {},
   "outputs": [],
   "source": [
    "# Trained Agent\n",
    "game_stats = {\n",
    "    GameState.WIN: 0,\n",
    "    GameState.TIE: 0,\n",
    "    GameState.LOSS: 0,\n",
    "}\n",
    "agent_overall_wins = 0\n",
    "total_reward = 0\n",
    "\n",
    "for episode in range(1000):\n",
    "    state_0 = env.reset()\n",
    "    for t in range(1000):\n",
    "        action = agent.compute_action(state_0)\n",
    "        state_1, reward, done, info = env.step(action)\n",
    "        state_0 = state_1\n",
    "        \n",
    "        # Statistics\n",
    "        game_stats[reward] += 1\n",
    "        total_reward += reward\n",
    "        \n",
    "        if done:\n",
    "            agent_overall_wins += info[\"agent_won\"]\n",
    "            break\n",
    "        \n",
    "print(total_reward, agent_overall_wins, game_stats)"
   ]
  }
 ],
 "metadata": {
  "kernelspec": {
   "display_name": "Python 3 (ipykernel)",
   "language": "python",
   "name": "python3"
  },
  "language_info": {
   "codemirror_mode": {
    "name": "ipython",
    "version": 3
   },
   "file_extension": ".py",
   "mimetype": "text/x-python",
   "name": "python",
   "nbconvert_exporter": "python",
   "pygments_lexer": "ipython3",
   "version": "3.10.2"
  }
 },
 "nbformat": 4,
 "nbformat_minor": 5
}
